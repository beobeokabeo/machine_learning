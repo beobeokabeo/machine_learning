{
 "cells": [
  {
   "cell_type": "code",
   "execution_count": 1,
   "metadata": {},
   "outputs": [],
   "source": [
    "import tensorflow as tf\n",
    "from tensorflow.keras.datasets import cifar10\n",
    "from tensorflow.keras.preprocessing.image import ImageDataGenerator\n",
    "from tensorflow.keras.models import Sequential\n",
    "from tensorflow.keras.layers import Dense, Dropout, Activation, Flatten\n",
    "from tensorflow.keras.layers import Conv2D, MaxPooling2D\n",
    "\n",
    "import pickle\n",
    "\n",
    "pickle_in = open(\"X.pickle\",\"rb\")\n",
    "X = pickle.load(pickle_in)\n",
    "\n",
    "pickle_in = open(\"y.pickle\",\"rb\")\n",
    "y = pickle.load(pickle_in)\n",
    "\n",
    "X = X/255.0\n",
    "\n",
    "model = Sequential()\n"
   ]
  },
  {
   "cell_type": "code",
   "execution_count": 2,
   "metadata": {
    "tags": []
   },
   "outputs": [
    {
     "output_type": "stream",
     "name": "stdout",
     "text": "Epoch 1/13\n702/702 [==============================] - 4s 6ms/step - loss: 0.6214 - accuracy: 0.6497 - val_loss: 0.5583 - val_accuracy: 0.7198\nEpoch 2/13\n702/702 [==============================] - 4s 6ms/step - loss: 0.5252 - accuracy: 0.7400 - val_loss: 0.5054 - val_accuracy: 0.7531\nEpoch 3/13\n702/702 [==============================] - 4s 6ms/step - loss: 0.4679 - accuracy: 0.7776 - val_loss: 0.6031 - val_accuracy: 0.6962\nEpoch 4/13\n702/702 [==============================] - 4s 6ms/step - loss: 0.4308 - accuracy: 0.7980 - val_loss: 0.4593 - val_accuracy: 0.7836\nEpoch 5/13\n702/702 [==============================] - 4s 6ms/step - loss: 0.3914 - accuracy: 0.8205 - val_loss: 0.4496 - val_accuracy: 0.7856\nEpoch 6/13\n702/702 [==============================] - 4s 6ms/step - loss: 0.3524 - accuracy: 0.8411 - val_loss: 0.4610 - val_accuracy: 0.7860\nEpoch 7/13\n702/702 [==============================] - 4s 6ms/step - loss: 0.3122 - accuracy: 0.8646 - val_loss: 0.4715 - val_accuracy: 0.7956\nEpoch 8/13\n702/702 [==============================] - 4s 6ms/step - loss: 0.2704 - accuracy: 0.8841 - val_loss: 0.5181 - val_accuracy: 0.8004\nEpoch 9/13\n702/702 [==============================] - 4s 6ms/step - loss: 0.2248 - accuracy: 0.9083 - val_loss: 0.4955 - val_accuracy: 0.7980\nEpoch 10/13\n702/702 [==============================] - 4s 6ms/step - loss: 0.1848 - accuracy: 0.9252 - val_loss: 0.5735 - val_accuracy: 0.7840\nEpoch 11/13\n702/702 [==============================] - 4s 6ms/step - loss: 0.1366 - accuracy: 0.9483 - val_loss: 0.6419 - val_accuracy: 0.7888\nEpoch 12/13\n702/702 [==============================] - 4s 6ms/step - loss: 0.1099 - accuracy: 0.9599 - val_loss: 0.7946 - val_accuracy: 0.7756\nEpoch 13/13\n702/702 [==============================] - 4s 6ms/step - loss: 0.0775 - accuracy: 0.9726 - val_loss: 0.8122 - val_accuracy: 0.7687\n"
    },
    {
     "output_type": "execute_result",
     "data": {
      "text/plain": "<tensorflow.python.keras.callbacks.History at 0x2763bef4588>"
     },
     "metadata": {},
     "execution_count": 2
    }
   ],
   "source": [
    "model.add(Conv2D(128, (3, 3), input_shape=X.shape[1:], activation='relu'))\n",
    "model.add(MaxPooling2D(pool_size=(2, 2)))\n",
    "\n",
    "model.add(Conv2D(128, (3, 3), activation='relu'))\n",
    "model.add(MaxPooling2D(pool_size=(2, 2)))\n",
    "\n",
    "model.add(Flatten())  # convert 3D feature maps to 1D feature vectors\n",
    "model.add(Dense(64, activation='relu'))\n",
    "\n",
    "\n",
    "model.add(Dense(1))\n",
    "model.add(Activation('sigmoid'))\n",
    "\n",
    "model.compile(loss='binary_crossentropy',\n",
    "              optimizer='adam',\n",
    "              metrics=['accuracy'])\n",
    "\n",
    "model.fit(X, y, batch_size=32, epochs=10, validation_split=0.1)"
   ]
  },
  {
   "cell_type": "code",
   "execution_count": 3,
   "metadata": {},
   "outputs": [],
   "source": [
    "model.save('cats_vs_dogs_64L.h5')"
   ]
  }
 ],
 "metadata": {
  "kernelspec": {
   "display_name": "Python 3",
   "language": "python",
   "name": "python3"
  },
  "language_info": {
   "codemirror_mode": {
    "name": "ipython",
    "version": 3
   },
   "file_extension": ".py",
   "mimetype": "text/x-python",
   "name": "python",
   "nbconvert_exporter": "python",
   "pygments_lexer": "ipython3",
   "version": "3.8.3-final"
  }
 },
 "nbformat": 4,
 "nbformat_minor": 4
}