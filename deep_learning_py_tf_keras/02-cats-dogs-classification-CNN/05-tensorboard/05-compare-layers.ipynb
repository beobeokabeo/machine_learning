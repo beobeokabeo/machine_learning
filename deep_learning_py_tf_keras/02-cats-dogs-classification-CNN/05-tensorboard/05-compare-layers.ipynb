{
 "metadata": {
  "language_info": {
   "codemirror_mode": {
    "name": "ipython",
    "version": 3
   },
   "file_extension": ".py",
   "mimetype": "text/x-python",
   "name": "python",
   "nbconvert_exporter": "python",
   "pygments_lexer": "ipython3",
   "version": "3.7.7-final"
  },
  "orig_nbformat": 2,
  "kernelspec": {
   "name": "python37764bittrackedtfgpuconda0f6711e19b92447eb6b3c3c33c92d32d",
   "display_name": "Python 3.7.7 64-bit ('tracked-tf-gpu': conda)"
  }
 },
 "nbformat": 4,
 "nbformat_minor": 2,
 "cells": [
  {
   "cell_type": "code",
   "execution_count": 1,
   "metadata": {
    "tags": [
     "outputPrepend"
    ]
   },
   "outputs": [
    {
     "output_type": "stream",
     "name": "stdout",
     "text": "=====================] - 3s 6ms/step - loss: 0.4981 - accuracy: 0.7590 - val_loss: 0.5632 - val_accuracy: 0.7047\nEpoch 4/10\n546/546 [==============================] - 3s 6ms/step - loss: 0.4638 - accuracy: 0.7804 - val_loss: 0.5226 - val_accuracy: 0.7418\nEpoch 5/10\n546/546 [==============================] - 3s 6ms/step - loss: 0.4241 - accuracy: 0.8053 - val_loss: 0.5159 - val_accuracy: 0.7485\nEpoch 6/10\n546/546 [==============================] - 3s 6ms/step - loss: 0.3790 - accuracy: 0.8303 - val_loss: 0.5518 - val_accuracy: 0.7376\nEpoch 7/10\n546/546 [==============================] - 3s 6ms/step - loss: 0.3363 - accuracy: 0.8482 - val_loss: 0.5858 - val_accuracy: 0.7451\nEpoch 8/10\n546/546 [==============================] - 4s 7ms/step - loss: 0.2846 - accuracy: 0.8812 - val_loss: 0.6067 - val_accuracy: 0.7345\nEpoch 9/10\n546/546 [==============================] - 3s 6ms/step - loss: 0.2239 - accuracy: 0.9104 - val_loss: 0.6410 - val_accuracy: 0.7409\nEpoch 10/10\n546/546 [==============================] - 3s 6ms/step - loss: 0.1767 - accuracy: 0.9323 - val_loss: 0.7210 - val_accuracy: 0.7420\n2-conv-128-nodes-1-dense-1596940009\nEpoch 1/10\n  2/546 [..............................] - ETA: 2:43 - loss: 0.7843 - accuracy: 0.5312WARNING:tensorflow:Callbacks method `on_train_batch_end` is slow compared to the batch time (batch time: 0.0040s vs `on_train_batch_end` time: 0.5946s). Check your callbacks.\n546/546 [==============================] - 5s 8ms/step - loss: 0.6375 - accuracy: 0.6291 - val_loss: 0.5817 - val_accuracy: 0.6941\nEpoch 2/10\n546/546 [==============================] - 4s 6ms/step - loss: 0.5434 - accuracy: 0.7236 - val_loss: 0.5360 - val_accuracy: 0.7318\nEpoch 3/10\n546/546 [==============================] - 4s 7ms/step - loss: 0.4753 - accuracy: 0.7737 - val_loss: 0.5007 - val_accuracy: 0.7599\nEpoch 4/10\n546/546 [==============================] - 4s 7ms/step - loss: 0.4326 - accuracy: 0.8021 - val_loss: 0.4907 - val_accuracy: 0.7619\nEpoch 5/10\n546/546 [==============================] - 4s 7ms/step - loss: 0.3886 - accuracy: 0.8242 - val_loss: 0.4748 - val_accuracy: 0.7823\nEpoch 6/10\n546/546 [==============================] - 4s 6ms/step - loss: 0.3333 - accuracy: 0.8520 - val_loss: 0.4850 - val_accuracy: 0.7850\nEpoch 7/10\n546/546 [==============================] - 4s 7ms/step - loss: 0.2728 - accuracy: 0.8825 - val_loss: 0.5223 - val_accuracy: 0.7897\nEpoch 8/10\n546/546 [==============================] - 4s 7ms/step - loss: 0.2065 - accuracy: 0.9160 - val_loss: 0.5510 - val_accuracy: 0.7881\nEpoch 9/10\n546/546 [==============================] - 4s 7ms/step - loss: 0.1540 - accuracy: 0.9405 - val_loss: 0.6923 - val_accuracy: 0.7801\nEpoch 10/10\n546/546 [==============================] - 4s 7ms/step - loss: 0.1032 - accuracy: 0.9617 - val_loss: 0.7295 - val_accuracy: 0.7801\n3-conv-128-nodes-1-dense-1596940048\nEpoch 1/10\n  2/546 [..............................] - ETA: 2:36 - loss: 0.7533 - accuracy: 0.5000WARNING:tensorflow:Callbacks method `on_train_batch_end` is slow compared to the batch time (batch time: 0.0030s vs `on_train_batch_end` time: 0.5721s). Check your callbacks.\n546/546 [==============================] - 5s 9ms/step - loss: 0.6670 - accuracy: 0.5877 - val_loss: 0.6137 - val_accuracy: 0.6716\nEpoch 2/10\n546/546 [==============================] - 4s 7ms/step - loss: 0.5594 - accuracy: 0.7123 - val_loss: 0.5523 - val_accuracy: 0.7070\nEpoch 3/10\n546/546 [==============================] - 4s 7ms/step - loss: 0.4806 - accuracy: 0.7715 - val_loss: 0.4545 - val_accuracy: 0.7835\nEpoch 4/10\n546/546 [==============================] - 4s 7ms/step - loss: 0.4242 - accuracy: 0.8029 - val_loss: 0.4542 - val_accuracy: 0.7900\nEpoch 5/10\n546/546 [==============================] - 4s 7ms/step - loss: 0.3895 - accuracy: 0.8224 - val_loss: 0.4130 - val_accuracy: 0.8092\nEpoch 6/10\n546/546 [==============================] - 4s 7ms/step - loss: 0.3417 - accuracy: 0.8486 - val_loss: 0.4195 - val_accuracy: 0.8067\nEpoch 7/10\n546/546 [==============================] - 4s 7ms/step - loss: 0.3004 - accuracy: 0.8684 - val_loss: 0.4204 - val_accuracy: 0.8187\nEpoch 8/10\n546/546 [==============================] - 4s 7ms/step - loss: 0.2579 - accuracy: 0.8904 - val_loss: 0.4509 - val_accuracy: 0.8107\nEpoch 9/10\n546/546 [==============================] - 4s 7ms/step - loss: 0.2186 - accuracy: 0.9083 - val_loss: 0.4710 - val_accuracy: 0.8143\nEpoch 10/10\n546/546 [==============================] - 4s 7ms/step - loss: 0.1747 - accuracy: 0.9280 - val_loss: 0.4890 - val_accuracy: 0.8161\n1-conv-32-nodes-2-dense-1596940090\nEpoch 1/10\n  2/546 [..............................] - ETA: 2:44 - loss: 0.6843 - accuracy: 0.5469WARNING:tensorflow:Callbacks method `on_train_batch_end` is slow compared to the batch time (batch time: 0.0020s vs `on_train_batch_end` time: 0.6010s). Check your callbacks.\n546/546 [==============================] - 3s 5ms/step - loss: 0.6192 - accuracy: 0.6555 - val_loss: 0.5629 - val_accuracy: 0.7048\nEpoch 2/10\n546/546 [==============================] - 2s 3ms/step - loss: 0.5349 - accuracy: 0.7354 - val_loss: 0.6149 - val_accuracy: 0.6769\nEpoch 3/10\n546/546 [==============================] - 2s 4ms/step - loss: 0.4802 - accuracy: 0.7697 - val_loss: 0.5153 - val_accuracy: 0.7425\nEpoch 4/10\n546/546 [==============================] - 2s 4ms/step - loss: 0.4376 - accuracy: 0.7956 - val_loss: 0.5217 - val_accuracy: 0.7463\nEpoch 5/10\n546/546 [==============================] - 2s 3ms/step - loss: 0.3731 - accuracy: 0.8318 - val_loss: 0.5512 - val_accuracy: 0.7443\nEpoch 6/10\n546/546 [==============================] - 2s 3ms/step - loss: 0.3187 - accuracy: 0.8603 - val_loss: 0.5813 - val_accuracy: 0.7380\nEpoch 7/10\n546/546 [==============================] - 2s 4ms/step - loss: 0.2532 - accuracy: 0.8942 - val_loss: 0.6816 - val_accuracy: 0.7397\nEpoch 8/10\n546/546 [==============================] - 2s 4ms/step - loss: 0.1924 - accuracy: 0.9214 - val_loss: 0.7825 - val_accuracy: 0.7374\nEpoch 9/10\n546/546 [==============================] - 2s 4ms/step - loss: 0.1357 - accuracy: 0.9499 - val_loss: 0.9116 - val_accuracy: 0.7227\nEpoch 10/10\n546/546 [==============================] - 2s 3ms/step - loss: 0.0931 - accuracy: 0.9675 - val_loss: 1.0308 - val_accuracy: 0.7258\n2-conv-32-nodes-2-dense-1596940110\nEpoch 1/10\n  2/546 [..............................] - ETA: 2:29 - loss: 0.7036 - accuracy: 0.4219WARNING:tensorflow:Callbacks method `on_train_batch_end` is slow compared to the batch time (batch time: 0.0030s vs `on_train_batch_end` time: 0.5440s). Check your callbacks.\n546/546 [==============================] - 3s 5ms/step - loss: 0.6311 - accuracy: 0.6376 - val_loss: 0.5407 - val_accuracy: 0.7294\nEpoch 2/10\n546/546 [==============================] - 2s 4ms/step - loss: 0.5247 - accuracy: 0.7408 - val_loss: 0.4884 - val_accuracy: 0.7691\nEpoch 3/10\n546/546 [==============================] - 2s 4ms/step - loss: 0.4864 - accuracy: 0.7673 - val_loss: 0.4781 - val_accuracy: 0.7750\nEpoch 4/10\n546/546 [==============================] - 2s 4ms/step - loss: 0.4542 - accuracy: 0.7865 - val_loss: 0.4658 - val_accuracy: 0.7827\nEpoch 5/10\n546/546 [==============================] - 2s 3ms/step - loss: 0.4269 - accuracy: 0.8029 - val_loss: 0.4748 - val_accuracy: 0.7739\nEpoch 6/10\n546/546 [==============================] - 2s 3ms/step - loss: 0.4069 - accuracy: 0.8109 - val_loss: 0.4586 - val_accuracy: 0.7850\nEpoch 7/10\n546/546 [==============================] - 2s 4ms/step - loss: 0.3857 - accuracy: 0.8232 - val_loss: 0.4664 - val_accuracy: 0.7847\nEpoch 8/10\n546/546 [==============================] - 2s 3ms/step - loss: 0.3547 - accuracy: 0.8433 - val_loss: 0.4659 - val_accuracy: 0.7882\nEpoch 9/10\n546/546 [==============================] - 2s 3ms/step - loss: 0.3350 - accuracy: 0.8528 - val_loss: 0.4733 - val_accuracy: 0.7904\nEpoch 10/10\n546/546 [==============================] - 2s 3ms/step - loss: 0.3067 - accuracy: 0.8661 - val_loss: 0.4800 - val_accuracy: 0.7956\n3-conv-32-nodes-2-dense-1596940131\nEpoch 1/10\n  2/546 [..............................] - ETA: 2:40 - loss: 0.6946 - accuracy: 0.4062WARNING:tensorflow:Callbacks method `on_train_batch_end` is slow compared to the batch time (batch time: 0.0030s vs `on_train_batch_end` time: 0.5862s). Check your callbacks.\n546/546 [==============================] - 3s 5ms/step - loss: 0.6635 - accuracy: 0.5927 - val_loss: 0.6267 - val_accuracy: 0.6509\nEpoch 2/10\n546/546 [==============================] - 2s 4ms/step - loss: 0.5914 - accuracy: 0.6825 - val_loss: 0.5594 - val_accuracy: 0.7078\nEpoch 3/10\n546/546 [==============================] - 2s 4ms/step - loss: 0.5282 - accuracy: 0.7424 - val_loss: 0.5012 - val_accuracy: 0.7513\nEpoch 4/10\n546/546 [==============================] - 2s 4ms/step - loss: 0.4889 - accuracy: 0.7669 - val_loss: 0.5210 - val_accuracy: 0.7398\nEpoch 5/10\n546/546 [==============================] - 2s 4ms/step - loss: 0.4574 - accuracy: 0.7846 - val_loss: 0.4707 - val_accuracy: 0.7781\nEpoch 6/10\n546/546 [==============================] - 2s 4ms/step - loss: 0.4322 - accuracy: 0.7996 - val_loss: 0.4654 - val_accuracy: 0.7771\nEpoch 7/10\n546/546 [==============================] - 2s 4ms/step - loss: 0.4025 - accuracy: 0.8158 - val_loss: 0.4488 - val_accuracy: 0.7924\nEpoch 8/10\n546/546 [==============================] - 2s 4ms/step - loss: 0.3788 - accuracy: 0.8309 - val_loss: 0.4421 - val_accuracy: 0.8002\nEpoch 9/10\n546/546 [==============================] - 2s 4ms/step - loss: 0.3528 - accuracy: 0.8427 - val_loss: 0.4455 - val_accuracy: 0.7921\nEpoch 10/10\n546/546 [==============================] - 2s 4ms/step - loss: 0.3303 - accuracy: 0.8584 - val_loss: 0.4604 - val_accuracy: 0.7885\n1-conv-64-nodes-2-dense-1596940153\nEpoch 1/10\n  2/546 [..............................] - ETA: 2:31 - loss: 0.8839 - accuracy: 0.5781WARNING:tensorflow:Callbacks method `on_train_batch_end` is slow compared to the batch time (batch time: 0.0020s vs `on_train_batch_end` time: 0.5540s). Check your callbacks.\n546/546 [==============================] - 3s 5ms/step - loss: 0.6184 - accuracy: 0.6544 - val_loss: 0.5579 - val_accuracy: 0.7159\nEpoch 2/10\n546/546 [==============================] - 2s 4ms/step - loss: 0.5316 - accuracy: 0.7374 - val_loss: 0.5322 - val_accuracy: 0.7301\nEpoch 3/10\n546/546 [==============================] - 2s 4ms/step - loss: 0.4672 - accuracy: 0.7785 - val_loss: 0.5242 - val_accuracy: 0.7409\nEpoch 4/10\n546/546 [==============================] - 2s 4ms/step - loss: 0.3965 - accuracy: 0.8167 - val_loss: 0.5397 - val_accuracy: 0.7390\nEpoch 5/10\n546/546 [==============================] - 2s 4ms/step - loss: 0.3102 - accuracy: 0.8661 - val_loss: 0.6121 - val_accuracy: 0.7284\nEpoch 6/10\n546/546 [==============================] - 2s 4ms/step - loss: 0.2185 - accuracy: 0.9117 - val_loss: 0.7311 - val_accuracy: 0.7382\nEpoch 7/10\n546/546 [==============================] - 2s 4ms/step - loss: 0.1398 - accuracy: 0.9452 - val_loss: 0.8265 - val_accuracy: 0.7238\nEpoch 8/10\n546/546 [==============================] - 2s 4ms/step - loss: 0.0886 - accuracy: 0.9664 - val_loss: 1.0815 - val_accuracy: 0.7281\nEpoch 9/10\n546/546 [==============================] - 2s 4ms/step - loss: 0.0594 - accuracy: 0.9805 - val_loss: 1.1947 - val_accuracy: 0.7201\nEpoch 10/10\n546/546 [==============================] - 2s 4ms/step - loss: 0.0494 - accuracy: 0.9833 - val_loss: 1.4009 - val_accuracy: 0.7243\n2-conv-64-nodes-2-dense-1596940178\nEpoch 1/10\n  2/546 [..............................] - ETA: 2:40 - loss: 0.6953 - accuracy: 0.4531WARNING:tensorflow:Callbacks method `on_train_batch_end` is slow compared to the batch time (batch time: 0.0030s vs `on_train_batch_end` time: 0.5858s). Check your callbacks.\n546/546 [==============================] - 3s 6ms/step - loss: 0.6157 - accuracy: 0.6524 - val_loss: 0.5360 - val_accuracy: 0.7297\nEpoch 2/10\n546/546 [==============================] - 2s 4ms/step - loss: 0.5147 - accuracy: 0.7493 - val_loss: 0.5008 - val_accuracy: 0.7575\nEpoch 3/10\n546/546 [==============================] - 2s 4ms/step - loss: 0.4639 - accuracy: 0.7781 - val_loss: 0.4697 - val_accuracy: 0.7737\nEpoch 4/10\n546/546 [==============================] - 2s 4ms/step - loss: 0.4231 - accuracy: 0.8033 - val_loss: 0.4498 - val_accuracy: 0.7885\nEpoch 5/10\n546/546 [==============================] - 2s 4ms/step - loss: 0.3796 - accuracy: 0.8277 - val_loss: 0.4477 - val_accuracy: 0.7929\nEpoch 6/10\n546/546 [==============================] - 2s 4ms/step - loss: 0.3294 - accuracy: 0.8528 - val_loss: 0.4806 - val_accuracy: 0.7861\nEpoch 7/10\n546/546 [==============================] - 2s 4ms/step - loss: 0.2729 - accuracy: 0.8807 - val_loss: 0.5054 - val_accuracy: 0.7892\nEpoch 8/10\n546/546 [==============================] - 3s 5ms/step - loss: 0.2206 - accuracy: 0.9090 - val_loss: 0.5790 - val_accuracy: 0.7847\nEpoch 9/10\n546/546 [==============================] - 2s 5ms/step - loss: 0.1683 - accuracy: 0.9318 - val_loss: 0.6473 - val_accuracy: 0.7831\nEpoch 10/10\n546/546 [==============================] - 2s 4ms/step - loss: 0.1204 - accuracy: 0.9536 - val_loss: 0.8662 - val_accuracy: 0.7712\n3-conv-64-nodes-2-dense-1596940204\nEpoch 1/10\n  2/546 [..............................] - ETA: 2:58 - loss: 0.6812 - accuracy: 0.5938WARNING:tensorflow:Callbacks method `on_train_batch_end` is slow compared to the batch time (batch time: 0.0030s vs `on_train_batch_end` time: 0.6503s). Check your callbacks.\n546/546 [==============================] - 3s 6ms/step - loss: 0.6606 - accuracy: 0.5945 - val_loss: 0.6913 - val_accuracy: 0.5907\nEpoch 2/10\n546/546 [==============================] - 3s 5ms/step - loss: 0.5616 - accuracy: 0.7097 - val_loss: 0.5078 - val_accuracy: 0.7477\nEpoch 3/10\n546/546 [==============================] - 3s 5ms/step - loss: 0.4934 - accuracy: 0.7626 - val_loss: 0.4889 - val_accuracy: 0.7648\nEpoch 4/10\n546/546 [==============================] - 3s 5ms/step - loss: 0.4539 - accuracy: 0.7832 - val_loss: 0.4561 - val_accuracy: 0.7835\nEpoch 5/10\n546/546 [==============================] - 3s 5ms/step - loss: 0.4177 - accuracy: 0.8049 - val_loss: 0.4875 - val_accuracy: 0.7679\nEpoch 6/10\n546/546 [==============================] - 3s 5ms/step - loss: 0.3783 - accuracy: 0.8286 - val_loss: 0.4454 - val_accuracy: 0.7906\nEpoch 7/10\n546/546 [==============================] - 3s 5ms/step - loss: 0.3409 - accuracy: 0.8476 - val_loss: 0.4391 - val_accuracy: 0.7985\nEpoch 8/10\n546/546 [==============================] - 3s 5ms/step - loss: 0.3062 - accuracy: 0.8662 - val_loss: 0.4596 - val_accuracy: 0.7992\nEpoch 9/10\n546/546 [==============================] - 3s 5ms/step - loss: 0.2794 - accuracy: 0.8791 - val_loss: 0.4470 - val_accuracy: 0.8061\nEpoch 10/10\n546/546 [==============================] - 3s 5ms/step - loss: 0.2413 - accuracy: 0.8959 - val_loss: 0.4574 - val_accuracy: 0.8033\n1-conv-128-nodes-2-dense-1596940232\nEpoch 1/10\n  2/546 [..............................] - ETA: 2:28 - loss: 0.7733 - accuracy: 0.4375WARNING:tensorflow:Callbacks method `on_train_batch_end` is slow compared to the batch time (batch time: 0.0030s vs `on_train_batch_end` time: 0.5396s). Check your callbacks.\n546/546 [==============================] - 4s 8ms/step - loss: 0.6172 - accuracy: 0.6592 - val_loss: 0.5714 - val_accuracy: 0.7060\nEpoch 2/10\n546/546 [==============================] - 3s 6ms/step - loss: 0.5181 - accuracy: 0.7459 - val_loss: 0.5388 - val_accuracy: 0.7263\nEpoch 3/10\n546/546 [==============================] - 3s 6ms/step - loss: 0.4424 - accuracy: 0.7926 - val_loss: 0.5407 - val_accuracy: 0.7457\nEpoch 4/10\n546/546 [==============================] - 3s 6ms/step - loss: 0.3479 - accuracy: 0.8430 - val_loss: 0.5904 - val_accuracy: 0.7353\nEpoch 5/10\n546/546 [==============================] - 3s 6ms/step - loss: 0.2374 - accuracy: 0.9008 - val_loss: 0.7129 - val_accuracy: 0.7392\nEpoch 6/10\n546/546 [==============================] - 3s 6ms/step - loss: 0.1471 - accuracy: 0.9433 - val_loss: 0.8819 - val_accuracy: 0.7392\nEpoch 7/10\n546/546 [==============================] - 3s 6ms/step - loss: 0.0814 - accuracy: 0.9705 - val_loss: 1.0209 - val_accuracy: 0.7195\nEpoch 8/10\n546/546 [==============================] - 4s 6ms/step - loss: 0.0574 - accuracy: 0.9803 - val_loss: 1.3038 - val_accuracy: 0.7304\nEpoch 9/10\n546/546 [==============================] - 3s 6ms/step - loss: 0.0369 - accuracy: 0.9872 - val_loss: 1.3579 - val_accuracy: 0.7151\nEpoch 10/10\n546/546 [==============================] - 3s 6ms/step - loss: 0.0494 - accuracy: 0.9845 - val_loss: 1.3377 - val_accuracy: 0.7210\n2-conv-128-nodes-2-dense-1596940268\nEpoch 1/10\n  2/546 [..............................] - ETA: 2:31 - loss: 0.7205 - accuracy: 0.5938WARNING:tensorflow:Callbacks method `on_train_batch_end` is slow compared to the batch time (batch time: 0.0040s vs `on_train_batch_end` time: 0.5510s). Check your callbacks.\n546/546 [==============================] - 4s 8ms/step - loss: 0.6333 - accuracy: 0.6345 - val_loss: 0.5913 - val_accuracy: 0.6979\nEpoch 2/10\n546/546 [==============================] - 4s 7ms/step - loss: 0.5435 - accuracy: 0.7276 - val_loss: 0.5153 - val_accuracy: 0.7484\nEpoch 3/10\n546/546 [==============================] - 4s 7ms/step - loss: 0.4884 - accuracy: 0.7670 - val_loss: 0.4985 - val_accuracy: 0.7571\nEpoch 4/10\n546/546 [==============================] - 4s 7ms/step - loss: 0.4469 - accuracy: 0.7912 - val_loss: 0.4722 - val_accuracy: 0.7737\nEpoch 5/10\n546/546 [==============================] - 4s 7ms/step - loss: 0.4097 - accuracy: 0.8137 - val_loss: 0.4702 - val_accuracy: 0.7807\nEpoch 6/10\n546/546 [==============================] - 4s 6ms/step - loss: 0.3569 - accuracy: 0.8410 - val_loss: 0.5268 - val_accuracy: 0.7634\nEpoch 7/10\n546/546 [==============================] - 4s 6ms/step - loss: 0.3026 - accuracy: 0.8666 - val_loss: 0.5210 - val_accuracy: 0.7654\nEpoch 8/10\n546/546 [==============================] - 4s 7ms/step - loss: 0.2476 - accuracy: 0.8976 - val_loss: 0.5638 - val_accuracy: 0.7671\nEpoch 9/10\n546/546 [==============================] - 4s 6ms/step - loss: 0.1920 - accuracy: 0.9202 - val_loss: 0.6415 - val_accuracy: 0.7707\nEpoch 10/10\n546/546 [==============================] - 4s 7ms/step - loss: 0.1392 - accuracy: 0.9452 - val_loss: 0.7796 - val_accuracy: 0.7614\n3-conv-128-nodes-2-dense-1596940306\nEpoch 1/10\n  2/546 [..............................] - ETA: 2:51 - loss: 0.6911 - accuracy: 0.5625WARNING:tensorflow:Callbacks method `on_train_batch_end` is slow compared to the batch time (batch time: 0.0040s vs `on_train_batch_end` time: 0.6250s). Check your callbacks.\n546/546 [==============================] - 5s 9ms/step - loss: 0.6822 - accuracy: 0.5558 - val_loss: 0.6533 - val_accuracy: 0.6129\nEpoch 2/10\n546/546 [==============================] - 4s 7ms/step - loss: 0.5957 - accuracy: 0.6807 - val_loss: 0.5281 - val_accuracy: 0.7358\nEpoch 3/10\n546/546 [==============================] - 4s 7ms/step - loss: 0.4935 - accuracy: 0.7629 - val_loss: 0.4694 - val_accuracy: 0.7798\nEpoch 4/10\n546/546 [==============================] - 4s 7ms/step - loss: 0.4352 - accuracy: 0.7979 - val_loss: 0.4794 - val_accuracy: 0.7730\nEpoch 5/10\n546/546 [==============================] - 4s 7ms/step - loss: 0.3800 - accuracy: 0.8279 - val_loss: 0.4296 - val_accuracy: 0.8004\nEpoch 6/10\n546/546 [==============================] - 4s 7ms/step - loss: 0.3304 - accuracy: 0.8524 - val_loss: 0.4316 - val_accuracy: 0.8084\nEpoch 7/10\n546/546 [==============================] - 4s 7ms/step - loss: 0.2762 - accuracy: 0.8799 - val_loss: 0.4382 - val_accuracy: 0.8084\nEpoch 8/10\n546/546 [==============================] - 4s 7ms/step - loss: 0.2235 - accuracy: 0.9056 - val_loss: 0.5083 - val_accuracy: 0.8055\nEpoch 9/10\n546/546 [==============================] - 4s 7ms/step - loss: 0.1761 - accuracy: 0.9281 - val_loss: 0.5651 - val_accuracy: 0.7858\nEpoch 10/10\n546/546 [==============================] - 4s 7ms/step - loss: 0.1398 - accuracy: 0.9434 - val_loss: 0.6768 - val_accuracy: 0.7926\n"
    }
   ],
   "source": [
    "from tensorflow.keras.models import Sequential\n",
    "from tensorflow.keras.layers import Dense, Dropout, Activation, Flatten\n",
    "from tensorflow.keras.layers import Conv2D, MaxPooling2D\n",
    "# more info on callbakcs: https://keras.io/callbacks/ model saver is cool too.\n",
    "from tensorflow.keras.callbacks import TensorBoard\n",
    "import pickle\n",
    "import time\n",
    "\n",
    "pickle_in = open(\"X.pickle\",\"rb\")\n",
    "X = pickle.load(pickle_in)\n",
    "\n",
    "pickle_in = open(\"y.pickle\",\"rb\")\n",
    "y = pickle.load(pickle_in)\n",
    "\n",
    "X = X/255.0\n",
    "\n",
    "dense_layers = [0, 1, 2]\n",
    "layer_sizes = [32, 64, 128]\n",
    "conv_layers = [1, 2, 3]\n",
    "\n",
    "for dense_layer in dense_layers:\n",
    "    for layer_size in layer_sizes:\n",
    "        for conv_layer in conv_layers:\n",
    "            name = \"{}-conv-{}-nodes-{}-dense-{}\".format(conv_layer, layer_size, dense_layer, int(time.time()))\n",
    "            print(name)\n",
    "\n",
    "            model = Sequential()\n",
    "\n",
    "            model.add(Conv2D(layer_size, (3, 3), input_shape=X.shape[1:]))\n",
    "            model.add(Activation('relu'))\n",
    "            model.add(MaxPooling2D(pool_size=(2, 2)))\n",
    "\n",
    "            for l in range(conv_layer-1):\n",
    "                model.add(Conv2D(layer_size, (3, 3)))\n",
    "                model.add(Activation('relu'))\n",
    "                model.add(MaxPooling2D(pool_size=(2, 2)))\n",
    "\n",
    "            model.add(Flatten())\n",
    "\n",
    "            for ll in range(dense_layer):\n",
    "                model.add(Dense(layer_size))\n",
    "                model.add(Activation('relu'))\n",
    "\n",
    "            model.add(Dense(1))\n",
    "            model.add(Activation('sigmoid'))\n",
    "\n",
    "            tensorboard = TensorBoard(log_dir=\"logs/{}\".format(name))\n",
    "\n",
    "            model.compile(loss='binary_crossentropy',\n",
    "                          optimizer='adam',\n",
    "                          metrics=['accuracy'],\n",
    "                          )\n",
    "\n",
    "            model.fit(X, y,\n",
    "                      batch_size=32,\n",
    "                      epochs=10,\n",
    "                      validation_split=0.3,\n",
    "                      callbacks=[tensorboard])"
   ]
  },
  {
   "cell_type": "code",
   "execution_count": 1,
   "metadata": {
    "tags": []
   },
   "outputs": [
    {
     "output_type": "stream",
     "name": "stdout",
     "text": "3-conv-64-nodes-1-dense-1596941268\nEpoch 1/10\n  1/546 [..............................] - ETA: 0s - loss: 0.6952 - accuracy: 0.4062WARNING:tensorflow:From C:\\Users\\robk\\AppData\\Roaming\\Python\\Python37\\site-packages\\tensorflow\\python\\ops\\summary_ops_v2.py:1277: stop (from tensorflow.python.eager.profiler) is deprecated and will be removed after 2020-07-01.\nInstructions for updating:\nuse `tf.profiler.experimental.stop` instead.\nWARNING:tensorflow:Callbacks method `on_train_batch_end` is slow compared to the batch time (batch time: 0.0030s vs `on_train_batch_end` time: 0.0300s). Check your callbacks.\n546/546 [==============================] - 3s 5ms/step - loss: 0.6583 - accuracy: 0.5967 - val_loss: 0.6201 - val_accuracy: 0.6550\nEpoch 2/10\n546/546 [==============================] - 3s 5ms/step - loss: 0.5602 - accuracy: 0.7120 - val_loss: 0.5419 - val_accuracy: 0.7199\nEpoch 3/10\n546/546 [==============================] - 3s 5ms/step - loss: 0.5028 - accuracy: 0.7566 - val_loss: 0.4787 - val_accuracy: 0.7710\nEpoch 4/10\n546/546 [==============================] - 3s 5ms/step - loss: 0.4702 - accuracy: 0.7737 - val_loss: 0.5072 - val_accuracy: 0.7533\nEpoch 5/10\n546/546 [==============================] - 3s 5ms/step - loss: 0.4367 - accuracy: 0.7980 - val_loss: 0.4664 - val_accuracy: 0.7753\nEpoch 6/10\n546/546 [==============================] - 3s 5ms/step - loss: 0.4110 - accuracy: 0.8123 - val_loss: 0.4222 - val_accuracy: 0.8042\nEpoch 7/10\n546/546 [==============================] - 3s 5ms/step - loss: 0.3764 - accuracy: 0.8287 - val_loss: 0.4215 - val_accuracy: 0.8103\nEpoch 8/10\n546/546 [==============================] - 3s 5ms/step - loss: 0.3537 - accuracy: 0.8423 - val_loss: 0.4218 - val_accuracy: 0.8116\nEpoch 9/10\n546/546 [==============================] - 3s 5ms/step - loss: 0.3230 - accuracy: 0.8600 - val_loss: 0.4292 - val_accuracy: 0.8087\nEpoch 10/10\n546/546 [==============================] - 3s 5ms/step - loss: 0.2928 - accuracy: 0.8715 - val_loss: 0.4104 - val_accuracy: 0.8183\n"
    }
   ],
   "source": [
    "from tensorflow.keras.models import Sequential\n",
    "from tensorflow.keras.layers import Dense, Dropout, Activation, Flatten\n",
    "from tensorflow.keras.layers import Conv2D, MaxPooling2D\n",
    "# more info on callbakcs: https://keras.io/callbacks/ model saver is cool too.\n",
    "from tensorflow.keras.callbacks import TensorBoard\n",
    "import pickle\n",
    "import time\n",
    "\n",
    "pickle_in = open(\"X.pickle\",\"rb\")\n",
    "X = pickle.load(pickle_in)\n",
    "\n",
    "pickle_in = open(\"y.pickle\",\"rb\")\n",
    "y = pickle.load(pickle_in)\n",
    "\n",
    "X = X/255.0\n",
    "\n",
    "dense_layers = [1]\n",
    "layer_sizes = [64]\n",
    "conv_layers = [3]\n",
    "\n",
    "for dense_layer in dense_layers:\n",
    "    for layer_size in layer_sizes:\n",
    "        for conv_layer in conv_layers:\n",
    "            name = \"{}-conv-{}-nodes-{}-dense-{}\".format(conv_layer, layer_size, dense_layer, int(time.time()))\n",
    "            print(name)\n",
    "\n",
    "            model = Sequential()\n",
    "\n",
    "            model.add(Conv2D(layer_size, (3, 3), input_shape=X.shape[1:]))\n",
    "            model.add(Activation('relu'))\n",
    "            model.add(MaxPooling2D(pool_size=(2, 2)))\n",
    "\n",
    "            for l in range(conv_layer-1):\n",
    "                model.add(Conv2D(layer_size, (3, 3)))\n",
    "                model.add(Activation('relu'))\n",
    "                model.add(MaxPooling2D(pool_size=(2, 2)))\n",
    "\n",
    "            model.add(Flatten())\n",
    "\n",
    "            for ll in range(dense_layer):\n",
    "                model.add(Dense(512))\n",
    "                model.add(Activation('relu'))\n",
    "                model.add(Dropout(0.2))\n",
    "\n",
    "            model.add(Dense(1))\n",
    "            model.add(Activation('sigmoid'))\n",
    "\n",
    "            tensorboard = TensorBoard(log_dir=\"logs/{}\".format(name))\n",
    "\n",
    "            model.compile(loss='binary_crossentropy',\n",
    "                          optimizer='adam',\n",
    "                          metrics=['accuracy'],\n",
    "                          )\n",
    "\n",
    "            model.fit(X, y,\n",
    "                      batch_size=32,\n",
    "                      epochs=10,\n",
    "                      validation_split=0.3,\n",
    "                      callbacks=[tensorboard])"
   ]
  },
  {
   "cell_type": "code",
   "execution_count": null,
   "metadata": {},
   "outputs": [],
   "source": []
  }
 ]
}