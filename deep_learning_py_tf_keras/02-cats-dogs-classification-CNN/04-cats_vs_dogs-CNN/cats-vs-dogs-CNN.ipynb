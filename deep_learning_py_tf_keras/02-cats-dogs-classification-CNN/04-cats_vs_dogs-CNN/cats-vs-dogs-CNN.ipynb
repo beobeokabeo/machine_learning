{
 "cells": [
  {
   "cell_type": "code",
   "execution_count": 1,
   "metadata": {},
   "outputs": [],
   "source": [
    "import tensorflow as tf\n",
    "from tensorflow.keras.datasets import cifar10\n",
    "from tensorflow.keras.preprocessing.image import ImageDataGenerator\n",
    "from tensorflow.keras.models import Sequential\n",
    "from tensorflow.keras.layers import Dense, Dropout, Activation, Flatten\n",
    "from tensorflow.keras.layers import Conv2D, MaxPooling2D\n",
    "\n",
    "from tensorflow.keras.callbacks import TensorBoard\n",
    "import pickle\n",
    "\n",
    "# gpu_options = tf.GPUOptions(per_process_gpu_memory_fraction=0.333)\n",
    "#sess = tf.Session(config=tf.ConfigProto(gpu_options=gpu_options))\n",
    "\n",
    "pickle_in = open(\"X.pickle\",\"rb\")\n",
    "X = pickle.load(pickle_in)\n",
    "\n",
    "pickle_in = open(\"y.pickle\",\"rb\")\n",
    "y = pickle.load(pickle_in)\n",
    "\n",
    "X = X/255.0\n",
    "\n",
    "model = Sequential()\n"
   ]
  },
  {
   "cell_type": "code",
   "execution_count": 2,
   "metadata": {},
   "outputs": [],
   "source": [
    "# model = tf.keras.models.load_model('cats-vs-dogs-cnn-64x2-1596838341.h5')"
   ]
  },
  {
   "cell_type": "code",
   "execution_count": 3,
   "metadata": {
    "tags": []
   },
   "outputs": [
    {
     "output_type": "stream",
     "name": "stdout",
     "text": "cats-vs-dogs-cnn-64x2-1596931234\n"
    }
   ],
   "source": [
    "import time\n",
    "name = 'cats-vs-dogs-cnn-64x2-{}'.format(int(time.time()))\n",
    "print(name)"
   ]
  },
  {
   "cell_type": "code",
   "execution_count": 4,
   "metadata": {},
   "outputs": [],
   "source": [
    "logger = TensorBoard(\n",
    "    log_dir='logs/{}'.format(name),\n",
    "    write_graph=True, \n",
    "    histogram_freq=5\n",
    ")"
   ]
  },
  {
   "cell_type": "code",
   "execution_count": 5,
   "metadata": {
    "scrolled": false,
    "tags": []
   },
   "outputs": [
    {
     "output_type": "stream",
     "name": "stdout",
     "text": "Epoch 1/7\n  1/624 [..............................] - ETA: 0s - loss: 0.7040 - accuracy: 0.2812WARNING:tensorflow:From C:\\Users\\robk\\AppData\\Roaming\\Python\\Python37\\site-packages\\tensorflow\\python\\ops\\summary_ops_v2.py:1277: stop (from tensorflow.python.eager.profiler) is deprecated and will be removed after 2020-07-01.\nInstructions for updating:\nuse `tf.profiler.experimental.stop` instead.\nWARNING:tensorflow:Callbacks method `on_train_batch_end` is slow compared to the batch time (batch time: 0.0040s vs `on_train_batch_end` time: 0.0270s). Check your callbacks.\n624/624 [==============================] - 4s 7ms/step - loss: 0.6460 - accuracy: 0.6177 - val_loss: 0.6045 - val_accuracy: 0.6828\nEpoch 2/7\n624/624 [==============================] - 4s 6ms/step - loss: 0.5588 - accuracy: 0.7147 - val_loss: 0.5368 - val_accuracy: 0.7381\nEpoch 3/7\n624/624 [==============================] - 4s 6ms/step - loss: 0.4977 - accuracy: 0.7560 - val_loss: 0.4882 - val_accuracy: 0.7669\nEpoch 4/7\n624/624 [==============================] - 4s 6ms/step - loss: 0.4473 - accuracy: 0.7895 - val_loss: 0.5026 - val_accuracy: 0.7577\nEpoch 5/7\n624/624 [==============================] - 4s 6ms/step - loss: 0.4106 - accuracy: 0.8130 - val_loss: 0.4542 - val_accuracy: 0.7920\nEpoch 6/7\n624/624 [==============================] - 4s 6ms/step - loss: 0.3725 - accuracy: 0.8297 - val_loss: 0.4805 - val_accuracy: 0.7832\nEpoch 7/7\n624/624 [==============================] - 4s 6ms/step - loss: 0.3370 - accuracy: 0.8495 - val_loss: 0.4703 - val_accuracy: 0.7862\n"
    },
    {
     "output_type": "execute_result",
     "data": {
      "text/plain": "<tensorflow.python.keras.callbacks.History at 0x23e8c23eb88>"
     },
     "metadata": {},
     "execution_count": 5
    }
   ],
   "source": [
    "model.add(Conv2D(128, (3, 3), input_shape=X.shape[1:], activation='relu'))\n",
    "model.add(MaxPooling2D(pool_size=(2, 2)))\n",
    "\n",
    "model.add(Conv2D(128, (3, 3), activation='relu'))\n",
    "model.add(MaxPooling2D(pool_size=(2, 2)))\n",
    "\n",
    "model.add(Flatten())  # convert 3D feature maps to 1D feature vectors\n",
    "model.add(Dense(64, activation='relu'))\n",
    "\n",
    "\n",
    "model.add(Dense(1))\n",
    "model.add(Activation('sigmoid'))\n",
    "\n",
    "model.compile(loss='binary_crossentropy',\n",
    "              optimizer='adam',\n",
    "              metrics=['accuracy'])\n",
    "\n",
    "model.fit(X, y, batch_size=32, epochs=7, validation_split=0.2, callbacks=[logger])"
   ]
  },
  {
   "cell_type": "code",
   "execution_count": 6,
   "metadata": {},
   "outputs": [],
   "source": [
    "model.save(name + '.h5')"
   ]
  }
 ],
 "metadata": {
  "kernelspec": {
   "display_name": "Python 3.7.7 64-bit ('tracked-tf-gpu': conda)",
   "language": "python",
   "name": "python37764bittrackedtfgpuconda0f6711e19b92447eb6b3c3c33c92d32d"
  },
  "language_info": {
   "codemirror_mode": {
    "name": "ipython",
    "version": 3
   },
   "file_extension": ".py",
   "mimetype": "text/x-python",
   "name": "python",
   "nbconvert_exporter": "python",
   "pygments_lexer": "ipython3",
   "version": "3.7.7-final"
  }
 },
 "nbformat": 4,
 "nbformat_minor": 4
}