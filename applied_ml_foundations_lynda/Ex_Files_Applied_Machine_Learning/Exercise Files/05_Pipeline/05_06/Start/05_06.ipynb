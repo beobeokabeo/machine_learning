{
 "cells": [
  {
   "cell_type": "markdown",
   "metadata": {},
   "source": [
    "## Pipeline: Tune hyperparameters\n",
    "\n",
    "Using the Titanic dataset from [this](https://www.kaggle.com/c/titanic/overview) Kaggle competition.\n",
    "\n",
    "In this section, we will tune the hyperparameters for the basic model we fit in the last section."
   ]
  },
  {
   "cell_type": "markdown",
   "metadata": {},
   "source": [
    "### Read in data\n",
    "\n",
    "![Tune Hyperparameters](../../img/tune_hyperparameters.png)"
   ]
  },
  {
   "cell_type": "code",
   "execution_count": 1,
   "metadata": {},
   "outputs": [],
   "source": [
    "import pandas as pd\n",
    "from sklearn.ensemble import RandomForestClassifier\n",
    "from sklearn.model_selection import GridSearchCV\n",
    "\n",
    "tr_features = pd.read_csv('../../../train_features.csv')\n",
    "tr_labels = pd.read_csv('../../../train_labels.csv')"
   ]
  },
  {
   "cell_type": "markdown",
   "metadata": {},
   "source": [
    "### Hyperparameter tuning\n",
    "\n",
    "![Hyperparameters](../../img/hyperparameters.png)"
   ]
  },
  {
   "cell_type": "code",
   "execution_count": 2,
   "metadata": {},
   "outputs": [],
   "source": [
    "def print_results(results):\n",
    "    print('BEST PARAMS: {}\\n'.format(results.best_params_))\n",
    "\n",
    "    means = results.cv_results_['mean_test_score']\n",
    "    stds = results.cv_results_['std_test_score']\n",
    "    for mean, std, params in zip(means, stds, results.cv_results_['params']):\n",
    "        print('{} (+/-{}) for {}'.format(round(mean, 3), round(std * 2, 3), params))"
   ]
  },
  {
   "cell_type": "code",
   "execution_count": 5,
   "metadata": {},
   "outputs": [
    {
     "name": "stdout",
     "output_type": "stream",
     "text": [
      "BEST PARAMS: {'max_depth': 10, 'n_estimators': 50}\n",
      "\n",
      "0.775 (+/-0.113) for {'max_depth': 2, 'n_estimators': 5}\n",
      "0.785 (+/-0.122) for {'max_depth': 2, 'n_estimators': 50}\n",
      "0.803 (+/-0.122) for {'max_depth': 2, 'n_estimators': 100}\n",
      "0.794 (+/-0.118) for {'max_depth': 2, 'n_estimators': 500}\n",
      "0.803 (+/-0.053) for {'max_depth': 10, 'n_estimators': 5}\n",
      "0.82 (+/-0.068) for {'max_depth': 10, 'n_estimators': 50}\n",
      "0.809 (+/-0.092) for {'max_depth': 10, 'n_estimators': 100}\n",
      "0.815 (+/-0.071) for {'max_depth': 10, 'n_estimators': 500}\n",
      "0.781 (+/-0.083) for {'max_depth': 20, 'n_estimators': 5}\n",
      "0.802 (+/-0.067) for {'max_depth': 20, 'n_estimators': 50}\n",
      "0.811 (+/-0.061) for {'max_depth': 20, 'n_estimators': 100}\n",
      "0.815 (+/-0.064) for {'max_depth': 20, 'n_estimators': 500}\n",
      "0.792 (+/-0.101) for {'max_depth': None, 'n_estimators': 5}\n",
      "0.809 (+/-0.057) for {'max_depth': None, 'n_estimators': 50}\n",
      "0.811 (+/-0.075) for {'max_depth': None, 'n_estimators': 100}\n",
      "0.813 (+/-0.069) for {'max_depth': None, 'n_estimators': 500}\n"
     ]
    }
   ],
   "source": [
    "rf = RandomForestClassifier()\n",
    "parameters = {\n",
    "    'n_estimators': [5, 50, 100, 500],\n",
    "    'max_depth': [2, 10, 20, None]\n",
    "}\n",
    "\n",
    "cv = GridSearchCV(rf, parameters, cv=5)\n",
    "cv.fit(tr_features, tr_labels.values.ravel())\n",
    "\n",
    "print_results(cv)"
   ]
  },
  {
   "cell_type": "code",
   "execution_count": null,
   "metadata": {},
   "outputs": [],
   "source": []
  }
 ],
 "metadata": {
  "kernelspec": {
   "display_name": "Python 3",
   "language": "python",
   "name": "python3"
  },
  "language_info": {
   "codemirror_mode": {
    "name": "ipython",
    "version": 3
   },
   "file_extension": ".py",
   "mimetype": "text/x-python",
   "name": "python",
   "nbconvert_exporter": "python",
   "pygments_lexer": "ipython3",
   "version": "3.8.5"
  }
 },
 "nbformat": 4,
 "nbformat_minor": 2
}
